{
 "cells": [
  {
   "cell_type": "markdown",
   "metadata": {
    "collapsed": true
   },
   "source": []
  },
  {
   "cell_type": "heading",
   "metadata": {},
   "level": 1,
   "source": [
    "Chapter 1 - The Role of Algorithms in Computer - My Answers and Solutions"
   ]
  },
  {
   "cell_type": "markdown",
   "metadata": {},
   "source": [
    "**1.1-1**\n",
    "\n",
    "A real-world example involving sorting would be generating reports of top statistics.\n",
    "A real-world example involving complex hull solving would be collision engines, where convex hulls are used to simply collision geometry.\n",
    "\n",
    "**1.1-2**\n",
    "\n",
    "Other, real-world measures of efficiency would be storage (memory and disk) and I/O in the CS domain. In other domains, throughput, fuel efficiency, and shipping times could be analyzed in a best-to-worst case way in decisions.\n",
    "\n",
    "**1.1-3**\n",
    "\n",
    "Linked lists are a data structure I have seen previous. They are advantageous over arrays in that they can be allocated from the heap and do not need to be stored sequentially in memory. They are also easy to navigate with pointers to the previous element (double-linked) and the next element (both single- and double-linked.) They do require more memory to hold the links and a pointer to the data in the element, which is more efficient the larger the held object. They are not ideal for searches, unless they are also sorted, since iterative techniques must be used.\n",
    "\n",
    "**1.1-4**\n",
    "\n",
    "The shortest-path and traveling salesman problems are similar in that both solutions should minimize a metric (e.g. distance, fuel use, composite metric of unfavorability.) The traveling salesman problem is more complex--where shortest-path is concerned only with the first and last positions and the metric between them; the traveling salesman problem requires that all positions in a set must be visited in a manner that minimizes the metric among all of them as sum. The stark difference is that the shortest-path problem is in P, but the traveling salesman problem is NP-Complete.\n",
    "\n",
    "**1.1-5**\n",
    "\n"
   ]
  }
 ],
 "metadata": {
  "kernelspec": {
   "display_name": "Python 2",
   "language": "python",
   "name": "python2"
  },
  "language_info": {
   "codemirror_mode": {
    "name": "ipython",
    "version": 2
   },
   "file_extension": ".py",
   "mimetype": "text/x-python",
   "name": "python",
   "nbconvert_exporter": "python",
   "pygments_lexer": "ipython2",
   "version": "2.7.6"
  }
 },
 "nbformat": 4,
 "nbformat_minor": 0
}
